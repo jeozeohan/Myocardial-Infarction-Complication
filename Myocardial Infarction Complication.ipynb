{
 "cells": [
  {
   "cell_type": "markdown",
   "id": "c06dfd80-891b-425a-94d2-73988bee51fd",
   "metadata": {},
   "source": [
    "# Myocardial Rupture Prediction Using Random Forest and Neural Network"
   ]
  },
  {
   "cell_type": "markdown",
   "id": "44e9abd9-094b-4104-b1ae-655fb0723162",
   "metadata": {},
   "source": [
    "#### Acute myocardial infarction has been increasing according to American Heart Association. While myocardial infarction could be hereditary, unhealthy lifestyle could also lead to this disease. Unfortunately, patients suffering from myocardial infarction have complications leading to worsening of the disease, particularly myocardial rupture which most of the time leads to patients death. This project aims to predict patients' myocardial rupture after being hospitalized from myocardial infarction using random forest and neural network."
   ]
  },
  {
   "cell_type": "markdown",
   "id": "1b372d76-2de7-44ab-a189-588401c534ad",
   "metadata": {},
   "source": [
    "## Importing Data"
   ]
  },
  {
   "cell_type": "code",
   "execution_count": 310,
   "id": "190ae9cd",
   "metadata": {},
   "outputs": [
    {
     "name": "stdout",
     "output_type": "stream",
     "text": [
      "Download Link: https://figshare.le.ac.uk/articles/dataset/Myocardial_infarction_complications_Database/12045261/3\n",
      "Source: University of Leicester\n"
     ]
    }
   ],
   "source": [
    "import pandas as pd\n",
    "df = pd.read_csv('Myocardial infarction complications Database.csv', sep=',')\n",
    "print('Download Link: https://figshare.le.ac.uk/articles/dataset/Myocardial_infarction_complications_Database/12045261/3')\n",
    "print('Source: University of Leicester')"
   ]
  },
  {
   "cell_type": "code",
   "execution_count": 311,
   "id": "6810110e",
   "metadata": {},
   "outputs": [
    {
     "name": "stdout",
     "output_type": "stream",
     "text": [
      "Number of features used for input: 111\n",
      "Output of interest: RAZRIV\n"
     ]
    }
   ],
   "source": [
    "# drop column ID\n",
    "df.drop(df.columns[0], axis=1, inplace=True)\n",
    "\n",
    "label = list(df.columns)\n",
    "\n",
    "input_label = label[0:111]\n",
    "target_feature = label[117]\n",
    "\n",
    "print(f'Number of features used for input: {len(input_label)}')\n",
    "print(f'Output of interest: {target_feature}')"
   ]
  },
  {
   "cell_type": "markdown",
   "id": "6408ad1c-7e85-45b0-8a55-37f8e0fd6c09",
   "metadata": {},
   "source": [
    "#### Our target feature is RAZRIV(Myocardial Rupture). 1 signifies the patient experienced myocardial rupture, 0 otherwise."
   ]
  },
  {
   "cell_type": "markdown",
   "id": "b6a1fd10-4ebb-4ee0-9048-0075c9e99174",
   "metadata": {},
   "source": [
    "## Imputation"
   ]
  },
  {
   "cell_type": "code",
   "execution_count": 312,
   "id": "16aab3c6",
   "metadata": {},
   "outputs": [
    {
     "name": "stdout",
     "output_type": "stream",
     "text": [
      "Number of missing values: 15974\n"
     ]
    }
   ],
   "source": [
    "# Number of missing values\n",
    "miss = df.isnull().sum().sum()\n",
    "print(f'Number of missing values: {miss}')"
   ]
  },
  {
   "cell_type": "code",
   "execution_count": 313,
   "id": "72441043",
   "metadata": {},
   "outputs": [
    {
     "name": "stdout",
     "output_type": "stream",
     "text": [
      "Number of missing values after imputation: 0\n"
     ]
    }
   ],
   "source": [
    "# Fill missing values with column mode\n",
    "for col in df.columns:\n",
    "    df[col] = df[col].fillna(df[col].mode()[0])\n",
    "\n",
    "# Number of missing values\n",
    "miss = df.isnull().sum().sum()\n",
    "print(f'Number of missing values after imputation: {miss}')"
   ]
  },
  {
   "cell_type": "code",
   "execution_count": 314,
   "id": "59142a87",
   "metadata": {},
   "outputs": [
    {
     "name": "stdout",
     "output_type": "stream",
     "text": [
      "RAZRIV\n",
      "0    1646\n",
      "1      54\n",
      "Name: count, dtype: int64\n"
     ]
    }
   ],
   "source": [
    "counts = df[target_feature].value_counts()\n",
    "print(counts)"
   ]
  },
  {
   "cell_type": "markdown",
   "id": "a7c83f7d-defe-40b3-86ad-9ccebde200aa",
   "metadata": {},
   "source": [
    "#### Mode of each input feature is used to fill in the missing values because all inputs are categorical variable. Notice that there is imbalance in our target feature which may lead to classification inaccuracy and poor generalization. This issue is dealt later using Synthetic Minority Over-Sampling Technique(SMOTE)."
   ]
  },
  {
   "cell_type": "markdown",
   "id": "7775315d-9479-445c-9504-edc429418650",
   "metadata": {},
   "source": [
    "## Splitting Training and Testing Set"
   ]
  },
  {
   "cell_type": "markdown",
   "id": "c7015e7d-e223-44a2-86f3-a66a1970923d",
   "metadata": {},
   "source": [
    "#### Train and test sets are split into 80/20 ratio."
   ]
  },
  {
   "cell_type": "code",
   "execution_count": 315,
   "id": "444c4f38",
   "metadata": {},
   "outputs": [],
   "source": [
    "df = df.sample(frac=1).reset_index(drop=True)\n",
    "num_rows, num_columns = df.shape\n",
    "df_train = df.head(int(num_rows*0.8)) #80%\n",
    "df_test = df.tail(int(num_rows*0.2)) #20%"
   ]
  },
  {
   "cell_type": "code",
   "execution_count": 316,
   "id": "0f59fdc7",
   "metadata": {},
   "outputs": [],
   "source": [
    "X_train = df_train.drop(target_feature, axis=1)\n",
    "y_train = df_train[target_feature]\n",
    "X_test = df_test.drop(target_feature, axis=1)\n",
    "y_test = df_test[target_feature]"
   ]
  },
  {
   "cell_type": "markdown",
   "id": "0bcd70ea",
   "metadata": {},
   "source": [
    "## Random Forest"
   ]
  },
  {
   "cell_type": "markdown",
   "id": "9e757600-7686-436c-a0c8-d62bc487e21d",
   "metadata": {},
   "source": [
    "#### First, we try to predict using random forest. We optimize the hyperparameters using random search due to our limitation of our hardware."
   ]
  },
  {
   "cell_type": "code",
   "execution_count": 317,
   "id": "cf18f87f",
   "metadata": {},
   "outputs": [
    {
     "name": "stdout",
     "output_type": "stream",
     "text": [
      "Fitting 5 folds for each of 100 candidates, totalling 500 fits\n"
     ]
    },
    {
     "name": "stderr",
     "output_type": "stream",
     "text": [
      "C:\\anaconda3\\Lib\\site-packages\\sklearn\\model_selection\\_validation.py:425: FitFailedWarning: \n",
      "180 fits failed out of a total of 500.\n",
      "The score on these train-test partitions for these parameters will be set to nan.\n",
      "If these failures are not expected, you can try to debug them by setting error_score='raise'.\n",
      "\n",
      "Below are more details about the failures:\n",
      "--------------------------------------------------------------------------------\n",
      "82 fits failed with the following error:\n",
      "Traceback (most recent call last):\n",
      "  File \"C:\\anaconda3\\Lib\\site-packages\\sklearn\\model_selection\\_validation.py\", line 732, in _fit_and_score\n",
      "    estimator.fit(X_train, y_train, **fit_params)\n",
      "  File \"C:\\anaconda3\\Lib\\site-packages\\sklearn\\base.py\", line 1144, in wrapper\n",
      "    estimator._validate_params()\n",
      "  File \"C:\\anaconda3\\Lib\\site-packages\\sklearn\\base.py\", line 637, in _validate_params\n",
      "    validate_parameter_constraints(\n",
      "  File \"C:\\anaconda3\\Lib\\site-packages\\sklearn\\utils\\_param_validation.py\", line 95, in validate_parameter_constraints\n",
      "    raise InvalidParameterError(\n",
      "sklearn.utils._param_validation.InvalidParameterError: The 'max_features' parameter of RandomForestClassifier must be an int in the range [1, inf), a float in the range (0.0, 1.0], a str among {'sqrt', 'log2'} or None. Got 'auto' instead.\n",
      "\n",
      "--------------------------------------------------------------------------------\n",
      "98 fits failed with the following error:\n",
      "Traceback (most recent call last):\n",
      "  File \"C:\\anaconda3\\Lib\\site-packages\\sklearn\\model_selection\\_validation.py\", line 732, in _fit_and_score\n",
      "    estimator.fit(X_train, y_train, **fit_params)\n",
      "  File \"C:\\anaconda3\\Lib\\site-packages\\sklearn\\base.py\", line 1144, in wrapper\n",
      "    estimator._validate_params()\n",
      "  File \"C:\\anaconda3\\Lib\\site-packages\\sklearn\\base.py\", line 637, in _validate_params\n",
      "    validate_parameter_constraints(\n",
      "  File \"C:\\anaconda3\\Lib\\site-packages\\sklearn\\utils\\_param_validation.py\", line 95, in validate_parameter_constraints\n",
      "    raise InvalidParameterError(\n",
      "sklearn.utils._param_validation.InvalidParameterError: The 'max_features' parameter of RandomForestClassifier must be an int in the range [1, inf), a float in the range (0.0, 1.0], a str among {'log2', 'sqrt'} or None. Got 'auto' instead.\n",
      "\n",
      "  warnings.warn(some_fits_failed_message, FitFailedWarning)\n",
      "C:\\anaconda3\\Lib\\site-packages\\sklearn\\model_selection\\_search.py:976: UserWarning: One or more of the test scores are non-finite: [       nan 0.54454764 0.53447953 0.51276888        nan 0.52128852\n",
      "        nan 0.40934061 0.52761905        nan 0.48243275 0.48778744\n",
      " 0.53663004        nan        nan        nan 0.51553148 0.51490196\n",
      " 0.56033712 0.53991228 0.47746138 0.53602634 0.53790476 0.53447953\n",
      "        nan 0.50129227 0.47714416        nan        nan        nan\n",
      " 0.52407018        nan        nan 0.53282143 0.48752228 0.50980952\n",
      "        nan        nan 0.54916174 0.54481755        nan 0.55736264\n",
      "        nan 0.53141026 0.49272727        nan 0.46775373 0.53417027\n",
      " 0.52014009 0.50163743 0.55585827 0.41018536 0.51525692 0.47542934\n",
      "        nan        nan        nan        nan 0.52163109 0.52526316\n",
      " 0.52044444        nan        nan 0.52049113 0.5395184  0.58102241\n",
      " 0.52708634 0.55984163 0.4683683  0.50044444 0.55417989        nan\n",
      "        nan 0.55042901 0.46422466        nan 0.51782253 0.54227598\n",
      " 0.48817173 0.43513376 0.5540518  0.47619048        nan 0.54072398\n",
      " 0.55079365        nan        nan 0.51985965        nan        nan\n",
      " 0.57083026        nan 0.55297017 0.53933333        nan 0.43518455\n",
      "        nan 0.50300945        nan 0.49889855]\n",
      "  warnings.warn(\n"
     ]
    },
    {
     "name": "stdout",
     "output_type": "stream",
     "text": [
      "Best Hyperparameters: {'bootstrap': False, 'max_depth': 67, 'max_features': 'sqrt', 'min_samples_leaf': 0.011494512247013422, 'min_samples_split': 0.017432289561093668, 'n_estimators': 937}\n",
      "Best precision Score: 0.5810224089635854\n"
     ]
    }
   ],
   "source": [
    "from sklearn.ensemble import RandomForestClassifier\n",
    "from scipy.stats import randint, uniform\n",
    "from sklearn.model_selection import RandomizedSearchCV\n",
    "\n",
    "random_grid = {\n",
    "    'n_estimators': randint(100, 1000),  # Number of trees in the forest\n",
    "    'max_features': ['auto', 'sqrt', 'log2'],  # Number of features to consider at every split\n",
    "    'max_depth': randint(10, 100),  # Maximum number of levels in tree\n",
    "    'min_samples_split': uniform(0.01, 0.199),  # Minimum number of samples required to split a node\n",
    "    'min_samples_leaf': uniform(0.01, 0.049),  # Minimum number of samples required at each leaf node\n",
    "    'bootstrap': [True, False]\n",
    "}\n",
    "\n",
    "rf = RandomForestClassifier(class_weight='balanced', random_state=42)\n",
    "\n",
    "rf_random_search = RandomizedSearchCV(\n",
    "    estimator=rf,\n",
    "    param_distributions=random_grid,\n",
    "    n_iter=100,  # 100 iterations\n",
    "    scoring='f1',\n",
    "    random_state=42,\n",
    "    n_jobs=-1,\n",
    "    verbose=1\n",
    ")\n",
    "\n",
    "rf_random_search.fit(X_train, y_train)\n",
    "\n",
    "best_params_rf = rf_random_search.best_params_\n",
    "best_score_rf = rf_random_search.best_score_\n",
    "\n",
    "print(\"Best Hyperparameters:\", best_params_rf)\n",
    "print(\"Best precision Score:\", best_score_rf)"
   ]
  },
  {
   "cell_type": "markdown",
   "id": "461883dd-80db-42ff-a924-48c63e691227",
   "metadata": {},
   "source": [
    "#### Apply SMOTE to our training set to solve imbalance in our dataset."
   ]
  },
  {
   "cell_type": "code",
   "execution_count": 318,
   "id": "56161392",
   "metadata": {},
   "outputs": [
    {
     "name": "stdout",
     "output_type": "stream",
     "text": [
      "Number of records in train set: 1360\n",
      "Number of records in train set after SMOTE: 2644\n"
     ]
    }
   ],
   "source": [
    "print(f'Number of records in train set: {len(X_train)}')\n",
    "\n",
    "# Perform oversampling using SMOTE\n",
    "from imblearn.over_sampling import SMOTE\n",
    "smote = SMOTE(random_state=42)\n",
    "X_train_smote, y_train_smote = smote.fit_resample(X_train, y_train)\n",
    "\n",
    "print(f'Number of records in train set after SMOTE: {len(X_train_smote)}')"
   ]
  },
  {
   "cell_type": "markdown",
   "id": "3f30bbdc-439d-4023-8d84-e93f6a89a84e",
   "metadata": {},
   "source": [
    "#### Select top 10 features  using mutual information"
   ]
  },
  {
   "cell_type": "code",
   "execution_count": 319,
   "id": "d11daece",
   "metadata": {
    "scrolled": true
   },
   "outputs": [
    {
     "name": "stdout",
     "output_type": "stream",
     "text": [
      "Top 10 Features\n",
      "AGE\n",
      "lat_im\n",
      "K_BLOOD\n",
      "NA_BLOOD\n",
      "ALT_BLOOD\n",
      "AST_BLOOD\n",
      "L_BLOOD\n",
      "ROE\n",
      "TIME_B_S\n",
      "P_IM_STEN\n"
     ]
    }
   ],
   "source": [
    "from sklearn.feature_selection import SelectKBest, mutual_info_classif\n",
    "from sklearn.ensemble import RandomForestClassifier\n",
    "\n",
    "selector = SelectKBest(score_func=mutual_info_classif,\n",
    "                       k=10) #Select top 10\n",
    "X_train_selected = selector.fit_transform(X_train_smote, y_train_smote)\n",
    "\n",
    "rf_model_selected = RandomForestClassifier(random_state=42, **best_params_rf)\n",
    "rf_model_selected.fit(X_train_selected, y_train_smote)\n",
    "\n",
    "X_val_selected = selector.transform(X_test)\n",
    "rf_val_predictions = rf_model_selected.predict(X_val_selected) # Prediction\n",
    "\n",
    "\n",
    "cols_idxs = selector.get_support(indices=True)\n",
    "features_df_new = df.iloc[:,cols_idxs]\n",
    "features_df_new.columns\n",
    "print('Top 10 Features')\n",
    "for i in features_df_new.columns:\n",
    "    print(i)"
   ]
  },
  {
   "cell_type": "markdown",
   "id": "4c2f7c7a-2f27-42e1-8ce8-f4adccfba44e",
   "metadata": {},
   "source": [
    "#### Instantiate Random Forest using hyperparameters from random search."
   ]
  },
  {
   "cell_type": "code",
   "execution_count": 320,
   "id": "99439789-1761-4527-9cf8-43efc5e460ad",
   "metadata": {},
   "outputs": [],
   "source": [
    "from sklearn.ensemble import RandomForestClassifier\n",
    "#from sklearn.svm import SVC\n",
    "X_train_selected = selector.fit_transform(X_train_smote, y_train_smote)\n",
    "\n",
    "rf_model_selected = RandomForestClassifier(random_state=42, **best_params_rf)\n",
    "rf_model_selected.fit(X_train_selected, y_train_smote)\n",
    "\n",
    "X_val_selected = selector.transform(X_test)\n",
    "rf_val_predictions = rf_model_selected.predict(X_val_selected) # Prediction"
   ]
  },
  {
   "cell_type": "code",
   "execution_count": 321,
   "id": "8b5ae617",
   "metadata": {},
   "outputs": [
    {
     "name": "stdout",
     "output_type": "stream",
     "text": [
      "Accuracy:  0.9764705882352941\n",
      "Recall:  1.0\n"
     ]
    },
    {
     "data": {
      "image/png": "[encoded data removed]",
      "text/plain": [
       "<Figure size 640x480 with 2 Axes>"
      ]
     },
     "metadata": {},
     "output_type": "display_data"
    }
   ],
   "source": [
    "from sklearn.metrics import confusion_matrix\n",
    "import seaborn as sns\n",
    "import matplotlib.pyplot as plt\n",
    "%matplotlib inline\n",
    "\n",
    "cm = confusion_matrix(y_test, rf_val_predictions)\n",
    "tn, fp, fn, tp = cm.ravel()\n",
    "\n",
    "\n",
    "sns.heatmap(cm, annot=True, fmt='g')\n",
    "plt.title('Confusion Matrix')\n",
    "plt.xlabel('Predicted')\n",
    "plt.ylabel('Actual');\n",
    "\n",
    "print('Accuracy: ', (tp+tn)/(tn+fp+fn+tp))\n",
    "print('Recall: ', (tp)/(tp+fn))"
   ]
  },
  {
   "cell_type": "code",
   "execution_count": 322,
   "id": "f8153564-547e-42fe-84c7-8a75933b3e5a",
   "metadata": {},
   "outputs": [],
   "source": [
    "dd = X_train_smote[['AGE','lat_im','K_BLOOD','NA_BLOOD','ALT_BLOOD','AST_BLOOD','L_BLOOD','ROE','TIME_B_S','P_IM_STEN']]"
   ]
  },
  {
   "cell_type": "markdown",
   "id": "7a1debaf-880a-4e27-a909-84c0942223d2",
   "metadata": {},
   "source": [
    "#### Recall rate is the common evaluation score used in medical fields where false negative is costly than false positive. Our model is showing extremely high recall rate with modestly high accuracy."
   ]
  },
  {
   "cell_type": "markdown",
   "id": "c3b53d19-5473-4fef-a21f-824de678c4e9",
   "metadata": {},
   "source": [
    "## Neural Network"
   ]
  },
  {
   "cell_type": "code",
   "execution_count": 337,
   "id": "c50e2b86-717c-458d-8f35-fb5c6b03129d",
   "metadata": {},
   "outputs": [
    {
     "data": {
      "text/plain": [
       "'cuda'"
      ]
     },
     "execution_count": 337,
     "metadata": {},
     "output_type": "execute_result"
    }
   ],
   "source": [
    "import torch\n",
    "from torch import nn\n",
    "\n",
    "# Use cuda if available\n",
    "device = 'cuda' if torch.cuda.is_available() else 'cpu'\n",
    "device"
   ]
  },
  {
   "cell_type": "code",
   "execution_count": 338,
   "id": "a674a705-243a-4c9d-9070-44ce96630829",
   "metadata": {},
   "outputs": [],
   "source": [
    "# Convert pandas object to a tensor and unify data type\n",
    "X_train_tensor = torch.tensor(X_train.values)\n",
    "X_test_tensor = torch.tensor(X_test.values)\n",
    "y_train_tensor = torch.tensor(y_train.values, dtype=float)\n",
    "y_test_tensor = torch.tensor(y_test.values, dtype=float)"
   ]
  },
  {
   "cell_type": "code",
   "execution_count": 339,
   "id": "4e204ce9-bbb2-405d-b993-338eb9351ed4",
   "metadata": {},
   "outputs": [
    {
     "data": {
      "text/plain": [
       "RAZRIVModel(\n",
       "  (layer_1): Linear(in_features=122, out_features=61, bias=True)\n",
       "  (layer_2): Linear(in_features=61, out_features=61, bias=True)\n",
       "  (layer_3): Linear(in_features=61, out_features=30, bias=True)\n",
       "  (layer_4): Linear(in_features=30, out_features=30, bias=True)\n",
       "  (layer_5): Linear(in_features=30, out_features=15, bias=True)\n",
       "  (layer_6): Linear(in_features=15, out_features=7, bias=True)\n",
       "  (layer_7): Linear(in_features=7, out_features=7, bias=True)\n",
       "  (layer_8): Linear(in_features=7, out_features=3, bias=True)\n",
       "  (layer_9): Linear(in_features=3, out_features=3, bias=True)\n",
       "  (layer_10): Linear(in_features=3, out_features=1, bias=True)\n",
       "  (relu): ReLU()\n",
       ")"
      ]
     },
     "execution_count": 339,
     "metadata": {},
     "output_type": "execute_result"
    }
   ],
   "source": [
    "# Contruct a model using linear layers\n",
    "class RAZRIVModel(nn.Module):\n",
    "    def __init__(self):\n",
    "        super().__init__()\n",
    "        self.layer_1 = nn.Linear(in_features=122, out_features=61, dtype=float)\n",
    "        self.layer_2 = nn.Linear(in_features=61, out_features=61, dtype=float)\n",
    "        self.layer_3 = nn.Linear(in_features=61, out_features=30, dtype=float)\n",
    "        self.layer_4 = nn.Linear(in_features=30, out_features=30, dtype=float)\n",
    "        self.layer_5 = nn.Linear(in_features=30, out_features=15, dtype=float)\n",
    "        self.layer_6 = nn.Linear(in_features=15, out_features=7, dtype=float)\n",
    "        self.layer_7 = nn.Linear(in_features=7, out_features=7, dtype=float)\n",
    "        self.layer_8 = nn.Linear(in_features=7, out_features=3, dtype=float)\n",
    "        self.layer_9 = nn.Linear(in_features=3, out_features=3, dtype=float)\n",
    "        self.layer_10 = nn.Linear(in_features=3, out_features=1, dtype=float)\n",
    "        self.relu = nn.ReLU()\n",
    "    \n",
    "    def forward(self, x):\n",
    "        return self.layer_10(self.relu(self.layer_9(self.relu(self.layer_8(self.relu(self.layer_7(self.relu(self.layer_6(self.relu(\n",
    "            self.layer_5(self.relu(self.layer_4(self.relu(self.layer_3(self.relu(self.layer_2(self.relu(self.layer_1(x)))))))))))))))))))\n",
    "\n",
    "# Instantiate model\n",
    "model = RAZRIVModel().to(device)\n",
    "model"
   ]
  },
  {
   "cell_type": "code",
   "execution_count": 340,
   "id": "32e7fd62-11f5-441a-b103-6417942c78f7",
   "metadata": {},
   "outputs": [],
   "source": [
    "# Create a loss function\n",
    "loss_fn = nn.BCEWithLogitsLoss()\n",
    "\n",
    "# Create an optimizer\n",
    "optimizer = torch.optim.SGD(params=model.parameters(),\n",
    "                            lr=0.01) # Increment learning rate by 0.01"
   ]
  },
  {
   "cell_type": "code",
   "execution_count": 341,
   "id": "19c57c74-afe2-4de4-9ef9-4ef8e6b8f651",
   "metadata": {},
   "outputs": [],
   "source": [
    "# Create accuracy function\n",
    "def accuracy_fn(y_true, y_pred):\n",
    "    correct = torch.eq(y_true, y_pred).sum().item()\n",
    "    acc = (correct / len(y_pred)) * 100 \n",
    "    return acc"
   ]
  },
  {
   "cell_type": "code",
   "execution_count": 342,
   "id": "0c3994c4-1eb9-482a-862a-9a0d4c2e0cf8",
   "metadata": {},
   "outputs": [
    {
     "name": "stdout",
     "output_type": "stream",
     "text": [
      "Epoch: 0 | Loss: 0.52245, Accuracy: 97.21% | Test loss: 0.52798, Test acc: 95.29%\n",
      "Epoch: 10 | Loss: 0.49937, Accuracy: 97.21% | Test loss: 0.50617, Test acc: 95.29%\n",
      "Epoch: 20 | Loss: 0.47710, Accuracy: 97.21% | Test loss: 0.48521, Test acc: 95.29%\n",
      "Epoch: 30 | Loss: 0.45575, Accuracy: 97.21% | Test loss: 0.46517, Test acc: 95.29%\n",
      "Epoch: 40 | Loss: 0.43531, Accuracy: 97.21% | Test loss: 0.44603, Test acc: 95.29%\n",
      "Epoch: 50 | Loss: 0.41573, Accuracy: 97.21% | Test loss: 0.42776, Test acc: 95.29%\n",
      "Epoch: 60 | Loss: 0.39698, Accuracy: 97.21% | Test loss: 0.41032, Test acc: 95.29%\n",
      "Epoch: 70 | Loss: 0.37905, Accuracy: 97.21% | Test loss: 0.39369, Test acc: 95.29%\n",
      "Epoch: 80 | Loss: 0.36192, Accuracy: 97.21% | Test loss: 0.37788, Test acc: 95.29%\n",
      "Epoch: 90 | Loss: 0.34558, Accuracy: 97.21% | Test loss: 0.36287, Test acc: 95.29%\n"
     ]
    }
   ],
   "source": [
    "torch.manual_seed(42)\n",
    "\n",
    "epochs = 100 # 100 iterations\n",
    "\n",
    "X_train_tensor, y_train_tensor = X_train_tensor.to(device), y_train_tensor.to(device)\n",
    "X_test_tensor, y_test_tensor = X_test_tensor.to(device), y_test_tensor.to(device)\n",
    "\n",
    "for epoch in range(epochs):\n",
    "    model.train() # Train\n",
    "    \n",
    "    y_logits = model(X_train_tensor).squeeze()\n",
    "    y_pred = torch.round(torch.sigmoid(y_logits))\n",
    "    \n",
    "    loss = loss_fn(y_logits, y_train_tensor)\n",
    "    acc = accuracy_fn(y_true=y_train_tensor, y_pred=y_pred)\n",
    "    \n",
    "    optimizer.zero_grad()\n",
    "    \n",
    "    loss.backward()\n",
    "    \n",
    "    optimizer.step()\n",
    "    \n",
    "    model_0.eval() # Test\n",
    "    with torch.inference_mode():\n",
    "        test_logits = model(X_test_tensor).squeeze()\n",
    "        test_pred = torch.round(torch.sigmoid(test_logits))\n",
    "        test_loss = loss_fn(test_logits, y_test_tensor)\n",
    "        test_acc = accuracy_fn(y_true=y_test_tensor, y_pred=test_pred)\n",
    "    \n",
    "    if epoch % 10 == 0:\n",
    "        print(f\"Epoch: {epoch} | Loss: {loss:.5f}, Accuracy: {acc:.2f}% | Test loss: {test_loss:.5f}, Test acc: {test_acc:.2f}%\")"
   ]
  },
  {
   "cell_type": "code",
   "execution_count": 343,
   "id": "2e9a1d39-ed5b-4f51-8099-87f5fe53529b",
   "metadata": {},
   "outputs": [
    {
     "name": "stdout",
     "output_type": "stream",
     "text": [
      "Accuracy:  0.9529411764705882\n",
      "Recall:  0.0\n"
     ]
    },
    {
     "data": {
      "image/png": "[encoded data removed]",
      "text/plain": [
       "<Figure size 640x480 with 2 Axes>"
      ]
     },
     "metadata": {},
     "output_type": "display_data"
    }
   ],
   "source": [
    "y_test_tensor_cpu = y_test_tensor.cpu().numpy()\n",
    "test_pred_cpu = test_pred.cpu().numpy()\n",
    "\n",
    "cm = confusion_matrix(y_test_tensor_cpu, test_pred_cpu)\n",
    "tn, fp, fn, tp = cm.ravel()\n",
    "\n",
    "\n",
    "sns.heatmap(cm, annot=True, fmt='g')\n",
    "plt.title('Confusion Matrix')\n",
    "plt.xlabel('Predicted')\n",
    "plt.ylabel('Actual');\n",
    "\n",
    "print('Accuracy: ', (tp+tn)/(tn+fp+fn+tp))\n",
    "print('Recall: ', (tp)/(tp+fn))"
   ]
  },
  {
   "cell_type": "markdown",
   "id": "dfb02d8f-e7b9-4b2c-a427-b23c28c6912f",
   "metadata": {},
   "source": [
    "#### Unlike random forest, recall rate in neural network model is extremely low. This may be due to inappropriate activation function and insufficient hidden layers. It could also be due to the fact that the model was not given recall rate to optimize."
   ]
  },
  {
   "cell_type": "markdown",
   "id": "2b63bad8-3ea2-4d31-92be-66aeed9ff54a",
   "metadata": {},
   "source": [
    "## Conclusion"
   ]
  },
  {
   "cell_type": "markdown",
   "id": "4e553f41-7795-42b6-b878-c747274014f1",
   "metadata": {},
   "source": [
    "#### The random forest model successfully predicted the target feature while the neural network model needs some improvement with its recall rate. Though the work is not shown in this code, the most prominent input feature was P_IM_STEN(Post-Infarction Angina). Recall rate suffered when P_IM_STEN was not included compared to other input features. Thus, post-infarction angina could be a determining signal for myocardial rupture."
   ]
  }
 ],
 "metadata": {
  "kernelspec": {
   "display_name": "Python 3 (ipykernel)",
   "language": "python",
   "name": "python3"
  },
  "language_info": {
   "codemirror_mode": {
    "name": "ipython",
    "version": 3
   },
   "file_extension": ".py",
   "mimetype": "text/x-python",
   "name": "python",
   "nbconvert_exporter": "python",
   "pygments_lexer": "ipython3",
   "version": "3.11.5"
  }
 },
 "nbformat": 4,
 "nbformat_minor": 5
}
